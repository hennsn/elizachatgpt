{
 "cells": [
  {
   "cell_type": "markdown",
   "metadata": {},
   "source": [
    "---"
   ]
  },
  {
   "cell_type": "markdown",
   "metadata": {},
   "source": [
    "# MLP Language Models"
   ]
  },
  {
   "cell_type": "markdown",
   "metadata": {},
   "source": [
    "---\n",
    "\n",
    "![](https://www.researchgate.net/publication/354817375/figure/fig2/AS:1071622807097344@1632506195651/Multi-layer-perceptron-MLP-NN-basic-Architecture.jpg)\n",
    "\n",
    "---\n",
    "\n",
    "![](https://miro.medium.com/v2/resize:fit:1200/1*EqKiy4-6tuLSoPP_kub33Q.png)\n",
    "\n",
    "---"
   ]
  },
  {
   "cell_type": "code",
   "execution_count": 40,
   "metadata": {},
   "outputs": [
    {
     "name": "stdout",
     "output_type": "stream",
     "text": [
      "['abide', 'accelerate', 'accept', 'accomplish', 'achieve', 'acquire', 'acted', 'activate', 'adapt', 'add']\n",
      "num words:  1041\n",
      "len dictinct characters:  26\n",
      "distinct_characters:  ['a', 'b', 'c', 'd', 'e', 'f', 'g', 'h', 'i', 'j', 'k', 'l', 'm', 'n', 'o', 'p', 'q', 'r', 's', 't', 'u', 'v', 'w', 'x', 'y', 'z']\n",
      "Num Characters:  27\n",
      "{'a': 0, 'b': 1, 'c': 2, 'd': 3, 'e': 4, 'f': 5, 'g': 6, 'h': 7, 'i': 8, 'j': 9, 'k': 10, 'l': 11, 'm': 12, 'n': 13, 'o': 14, 'p': 15, 'q': 16, 'r': 17, 's': 18, 't': 19, 'u': 20, 'v': 21, 'w': 22, 'x': 23, 'y': 24, 'z': 25}\n",
      "{'a': 0, 'b': 1, 'c': 2, 'd': 3, 'e': 4, 'f': 5, 'g': 6, 'h': 7, 'i': 8, 'j': 9, 'k': 10, 'l': 11, 'm': 12, 'n': 13, 'o': 14, 'p': 15, 'q': 16, 'r': 17, 's': 18, 't': 19, 'u': 20, 'v': 21, 'w': 22, 'x': 23, 'y': 24, 'z': 25, '_': 26}\n",
      "{0: 'a', 1: 'b', 2: 'c', 3: 'd', 4: 'e', 5: 'f', 6: 'g', 7: 'h', 8: 'i', 9: 'j', 10: 'k', 11: 'l', 12: 'm', 13: 'n', 14: 'o', 15: 'p', 16: 'q', 17: 'r', 18: 's', 19: 't', 20: 'u', 21: 'v', 22: 'w', 23: 'x', 24: 'y', 25: 'z', 26: '_'}\n"
     ]
    }
   ],
   "source": [
    "# PREPARE DATA\n",
    "import torch\n",
    "\n",
    "# read words from file\n",
    "words = open('./english_verbs.txt', 'r').read().splitlines()\n",
    "# alternative dataset: https://github.com/dwyl/english-words\n",
    "#words = open('./words_alpha.txt', 'r').read().splitlines()\n",
    "\n",
    "print(words[:10])\n",
    "\n",
    "print('num words: ', len(words)) \n",
    "\n",
    "# Prepare Alphabet\n",
    "## count characters \n",
    "dataset_characters = []\n",
    "for word in words:\n",
    "    word_characters = list(word)\n",
    "    dataset_characters.extend(word_characters)\n",
    "distinct_characters = sorted(list(set(dataset_characters)))\n",
    "print('len dictinct characters: ', len(distinct_characters))\n",
    "print('distinct_characters: ', distinct_characters)\n",
    "\n",
    "special_characters = ['_'] # changed to blank only for convenience reasons\n",
    "\n",
    "# ngram characters = distinct characters + start token and end token -> + 2\n",
    "num_characters = len(distinct_characters) + len(special_characters)\n",
    "print('Num Characters: ', num_characters)\n",
    "\n",
    "# create a character to index mapping because it is easier to work with indices when using tensor matrices -> every character gets assigned an index\n",
    "character_to_index_map = {character:index for index, character in enumerate(distinct_characters)}\n",
    "print(character_to_index_map)\n",
    "\n",
    "# add our special characters that symbolize start and end of a word\n",
    "character_to_index_map['_'] = 26\n",
    "print(character_to_index_map)\n",
    "\n",
    "# write characters into the cells to make it look more nicely\n",
    "index_to_character_map = {index:character for character, index in character_to_index_map.items()}\n",
    "print(index_to_character_map)"
   ]
  },
  {
   "cell_type": "code",
   "execution_count": 41,
   "metadata": {},
   "outputs": [
    {
     "name": "stdout",
     "output_type": "stream",
     "text": [
      "832\n",
      "104\n",
      "105\n",
      "tensor([[26, 26, 26, 26, 26],\n",
      "        [26, 26, 26, 26,  3],\n",
      "        [26, 26, 26,  3,  4],\n",
      "        [26, 26,  3,  4, 18]])\n",
      "tensor([ 3,  4, 18,  2])\n"
     ]
    }
   ],
   "source": [
    "# MULTI LAYER PERCEPTRON\n",
    "\n",
    "# Idea: Lets go for bigger contexts! -> 4 gram model -> 3 tokens context predict the upcoming 4th token\n",
    "\n",
    "# Tokens: elements of our fundamental set -> for us this is characters, but could also be words, subwords, ... \n",
    "# [a,b,c,d,_] -> [0,1,2,3,26] embedding -> indices\n",
    "\n",
    "# SPLIT DATA INTO TRAIN, DEV, TEST -> 80%, 10%, 10%\n",
    "import random\n",
    "random.shuffle(words)\n",
    "train_num = int(0.8*len(words))\n",
    "dev_num = int(0.9*len(words)) - train_num\n",
    "test_num = len(words) - (train_num + dev_num)\n",
    "print(train_num)\n",
    "print(dev_num)\n",
    "print(test_num)\n",
    "\n",
    "# CREATE DATASET for neural 4 gram model\n",
    "context_length = 5\n",
    "X, Y = [], [] # X = inputs, Y = outputs\n",
    "\n",
    "for word in words: # [:4] \n",
    "    context = [26] * context_length # _ _ _ word _\n",
    "    for character in word + '_': \n",
    "        index = character_to_index_map[character]\n",
    "        X.append(context)\n",
    "        Y.append(index)\n",
    "        #print(''.join(index_to_character_map[i] for i in context), ' -> ', index_to_character_map[index])\n",
    "        context = context[1:] + [index] # crop first context token and append current token as the new last one of the context\n",
    "        \n",
    "X = torch.tensor(X)\n",
    "Y = torch.tensor(Y)\n",
    "print(X[:4])\n",
    "print(Y[:4])\n",
    "\n",
    "X_train, Y_train = X[:train_num], Y[:train_num]\n",
    "X_dev, Y_dev = X[train_num:train_num+dev_num], Y[train_num:train_num+dev_num]\n",
    "X_test, Y_test = X[train_num+dev_num:], Y[train_num+dev_num:]"
   ]
  },
  {
   "cell_type": "code",
   "execution_count": 11,
   "metadata": {},
   "outputs": [
    {
     "name": "stdout",
     "output_type": "stream",
     "text": [
      "torch.Size([832, 3, 2])\n",
      "torch.Size([832, 6])\n",
      "torch.Size([832, 100])\n",
      "torch.Size([832, 27])\n",
      "torch.Size([832, 27])\n",
      "tensor(1.)\n",
      "18.325881958007812\n",
      "3481\n"
     ]
    }
   ],
   "source": [
    "# EMBEDDING LAYER: Embedding Table -> condensed representation of tokens\n",
    "import torch.nn.functional as F\n",
    "\n",
    "emb_dim = 2\n",
    "emb_layer = torch.randn((27,emb_dim)) \n",
    "# get emebbing of index 5\n",
    "#print(emb_layer[5])\n",
    "# but how to get it when using one hot encoding? -> just multiply! -> the nature of a one hot vector extracts the embedding from the weights. \n",
    "character_embedding = F.one_hot(torch.tensor(5), num_classes=num_characters).float() @ emb_layer\n",
    "#print(character_embedding)\n",
    "# get embeddings of a list or tensor\n",
    "character_embeddings = emb_layer[torch.tensor([5,6,7])]\n",
    "#print(character_embeddings)\n",
    "# or the embeddings of whole tensors\n",
    "x_emb = emb_layer[X_train]\n",
    "#print(x_emb)\n",
    "print(x_emb.shape)\n",
    "\n",
    "# HIDDEN LAYER \n",
    "input_dim = context_length * emb_dim\n",
    "hidden_dim = 100\n",
    "output_dim = num_characters\n",
    "\n",
    "W1 = torch.randn((input_dim, hidden_dim))\n",
    "b1 = torch.randn(hidden_dim)\n",
    "## concatenate the first, second and third embeddings into one input_context = roll up the 3 into 1\n",
    "num_training_examples = x_emb.shape[0]\n",
    "x_input = x_emb.view(num_training_examples, input_dim) # view is very memory efficient\n",
    "print(x_input.shape)\n",
    "# get hidden representation\n",
    "h = torch.tanh(x_input @ W1 + b1)\n",
    "print(h.shape)\n",
    "\n",
    "# FINAL LAYER/OUTPUT LAYER\n",
    "W2 = torch.randn((hidden_dim, output_dim))\n",
    "b2 = torch.randn(output_dim)\n",
    "logits = h @ W2 + b2\n",
    "print(logits.shape)\n",
    "# apply softmax\n",
    "counts = logits.exp()\n",
    "probs = counts / counts.sum(1, keepdims=True)\n",
    "print(probs.shape)\n",
    "print(probs[0].sum())\n",
    "\n",
    "# COMPUTE LOSS\n",
    "## get the current output probs for every gold standard character -> compute negative log likelihood loss (if sum of probs on gold standard places is high -> then neg log likelihood loss goes to 0)\n",
    "loss = -probs[torch.arange(num_training_examples), Y_train].log().mean()\n",
    "print(loss.item())\n",
    "\n",
    "# count params of MLP\n",
    "parameters = [emb_layer, W1, b1, W2, b2]\n",
    "num_params = sum(p.nelement() for p in parameters)\n",
    "print(num_params)"
   ]
  },
  {
   "cell_type": "code",
   "execution_count": 42,
   "metadata": {},
   "outputs": [],
   "source": [
    "# CONCISE DESCRIPTION OF MLP\n",
    "## params\n",
    "emb_dim = 2\n",
    "input_dim = context_length * emb_dim\n",
    "hidden_dim = 100\n",
    "output_dim = num_characters\n",
    "learning_rate = 0.1\n",
    "num_epochs = 1000\n",
    "\n",
    "# emb layer\n",
    "emb_layer = torch.randn((27,emb_dim)) \n",
    "# hidden layer\n",
    "W1 = torch.randn((input_dim, hidden_dim))\n",
    "b1 = torch.randn(hidden_dim)\n",
    "# output layer\n",
    "W2 = torch.randn((hidden_dim, output_dim))\n",
    "b2 = torch.randn(output_dim)\n",
    "# params/weights\n",
    "parameters = [emb_layer, W1, b1, W2, b2]\n",
    "\n",
    "# activate gradients for all variables in the compute graph\n",
    "for p in parameters:\n",
    "    p.requires_grad = True"
   ]
  },
  {
   "cell_type": "code",
   "execution_count": 17,
   "metadata": {},
   "outputs": [
    {
     "name": "stdout",
     "output_type": "stream",
     "text": [
      "2.165377378463745\n"
     ]
    }
   ],
   "source": [
    "# TRAINING\n",
    "for epoch in range(num_epochs):\n",
    "    # FORWARD PASS\n",
    "    x_emb = emb_layer[X_train] # (num_training_examples, 3, 2)\n",
    "    h = torch.tanh(x_emb.view(-1, input_dim) @ W1 + b1) # when using -1 torch will infer first dimension automatically\n",
    "    logits = h @ W2 + b2\n",
    "    loss = F.cross_entropy(logits, Y_train) # more concise way of writing -> use the inbuilt function that does the same as the lines above\n",
    "    #print(loss.item())\n",
    "    # BACKWARD PASS\n",
    "    ## set the gradients to be zero\n",
    "    for p in parameters:\n",
    "        p.grad = None\n",
    "    # compute gradients\n",
    "    loss.backward()\n",
    "    # update weights\n",
    "    for p in parameters:\n",
    "        p.data += -learning_rate * p.grad\n",
    "        \n",
    "print(loss.item())"
   ]
  },
  {
   "cell_type": "code",
   "execution_count": 43,
   "metadata": {},
   "outputs": [
    {
     "name": "stdout",
     "output_type": "stream",
     "text": [
      "2.3102657794952393\n"
     ]
    },
    {
     "data": {
      "text/plain": [
       "[<matplotlib.lines.Line2D at 0x7f507e656e20>]"
      ]
     },
     "execution_count": 43,
     "metadata": {},
     "output_type": "execute_result"
    },
    {
     "data": {
      "image/png": "[encoded data removed]",
      "text/plain": [
       "<Figure size 432x288 with 1 Axes>"
      ]
     },
     "metadata": {
      "needs_background": "light"
     },
     "output_type": "display_data"
    }
   ],
   "source": [
    "# TRAINING with minibatches\n",
    "import matplotlib.pyplot as plt\n",
    "%matplotlib inline\n",
    "\n",
    "epochs_list = []\n",
    "loss_list = []\n",
    "\n",
    "for epoch in range(num_epochs):\n",
    "    # minibatch construction -> get random batch of 32 examples\n",
    "    batch_ix = torch.randint(0, X_train.shape[0], (32,))\n",
    "    # FORWARD PASS\n",
    "    x_emb = emb_layer[X_train[batch_ix]] # (35, 3, 2)\n",
    "    h = torch.tanh(x_emb.view(-1, input_dim) @ W1 + b1) # when using -1 torch will infer first dimension automatically\n",
    "    logits = h @ W2 + b2\n",
    "    loss = F.cross_entropy(logits, Y_train[batch_ix]) # more concise way of writing -> use the inbuilt function that does the same as the lines above\n",
    "    #print(loss.item())\n",
    "    # BACKWARD PASS\n",
    "    ## set the gradients to be zero\n",
    "    for p in parameters:\n",
    "        p.grad = None\n",
    "    # compute gradients\n",
    "    loss.backward()\n",
    "    # update weights\n",
    "    for p in parameters:\n",
    "        p.data += -learning_rate * p.grad\n",
    "    # log loss\n",
    "    epochs_list.append(epoch)\n",
    "    loss_list.append(loss.item())\n",
    "        \n",
    "print(loss.item())\n",
    "\n",
    "plt.plot(epochs_list, loss_list)"
   ]
  },
  {
   "cell_type": "code",
   "execution_count": 44,
   "metadata": {},
   "outputs": [
    {
     "name": "stdout",
     "output_type": "stream",
     "text": [
      "tensor(3.0368, grad_fn=<NllLossBackward>)\n",
      "------------------------------------------------------\n"
     ]
    },
    {
     "data": {
      "image/png": "[encoded data removed]",
      "text/plain": [
       "<Figure size 576x576 with 1 Axes>"
      ]
     },
     "metadata": {
      "needs_background": "light"
     },
     "output_type": "display_data"
    }
   ],
   "source": [
    "# MODEL EVALUATION\n",
    "## = compute avg neg log likelihood over our test set\n",
    "x_emb = emb_layer[X_test]\n",
    "h = torch.tanh(x_emb.view(-1, input_dim) @ W1 + b1)\n",
    "logits = h @ W2 + b2\n",
    "loss = F.cross_entropy(logits, Y_test)\n",
    "print(loss)\n",
    "print('------------------------------------------------------')\n",
    "\n",
    "## visualize embedding vectors in the embedding layer\n",
    "plt.figure(figsize=(8,8))\n",
    "plt.scatter(emb_layer[:,0].data, emb_layer[:,1].data, s=200)\n",
    "for i in range(emb_layer.shape[0]):\n",
    "    plt.text(emb_layer[i,0].item(), emb_layer[i,1].item(), index_to_character_map[i], ha=\"center\", va=\"center\", color=\"white\")\n",
    "plt.grid(\"minor\")"
   ]
  },
  {
   "cell_type": "code",
   "execution_count": 47,
   "metadata": {},
   "outputs": [
    {
     "name": "stdout",
     "output_type": "stream",
     "text": [
      "gimifor_\n",
      "tiuy_\n",
      "purtjay_\n",
      "amabe_\n",
      "steit_\n"
     ]
    }
   ],
   "source": [
    "# SAMPLING \n",
    "num_words_to_sample = 5\n",
    "\n",
    "for i in range(num_words_to_sample):\n",
    "    out = []\n",
    "    blank_index = 26 # start with the blank symbol\n",
    "    context = [blank_index] * context_length\n",
    "    while True:\n",
    "        x_emb = emb_layer[torch.tensor([context])] # (1, contextlength, emb_dim)\n",
    "        h = torch.tanh(x_emb.view(1, input_dim) @ W1 + b1)\n",
    "        logits = h @ W2 + b2\n",
    "        probs = F.softmax(logits, dim=1)\n",
    "        # sampling\n",
    "        index = torch.multinomial(probs, num_samples=1, replacement=True).item()\n",
    "        context = context[1:] + [index]\n",
    "        out.append(index_to_character_map[index])\n",
    "        if index == 26:\n",
    "            break\n",
    "    print(''.join(out))"
   ]
  },
  {
   "cell_type": "code",
   "execution_count": null,
   "metadata": {},
   "outputs": [],
   "source": []
  },
  {
   "cell_type": "markdown",
   "metadata": {},
   "source": [
    "# Model Deployment\n",
    "\n",
    "**Knowledge Distillation**\n",
    "- 7B, 13B -> GPT-4 Distillations\n",
    "    - e.g. mosaic MPT-7B: https://www.mosaicml.com/blog/mpt-7b\n",
    "\n",
    "**Sparsity Techniques**\n",
    "- Quantization\n",
    "    - 8 Quantization: ONNX\n",
    "    - 4 bit Quantization: https://github.com/PanQiWei/AutoGPTQ\n",
    "- *Compute Graph Optimization* \n",
    "    - huggingface optimum\n",
    "    - onnx\n",
    "    - JAX (jax is designed for TPU clusters)\n",
    "- Weight Sharing\n",
    "- Weight Pruning\n",
    "- Low-Rank Adaptation\n",
    "    - *(Model Fine-Tuning:)* \n",
    "        - (Parameter-Efficient Fine-Tuning:) -> more details for peft next week\n",
    "\n",
    "**Inference Engines/Runtimes**\n",
    "- ONNX: open-quasi standard: https://github.com/microsoft/onnxruntime\n",
    "- Python: if you run your backends on python -> just in time compilation framework JAX: https://github.com/AakashKumarNain/TF_JAX_tutorials\n",
    "- C++: ctranslate, fastertransformers, cformers, -> so far only public repositories but no standard -> support is not guaranteed: https://github.com/OpenNMT/CTranslate2,  https://github.com/antimatter15/cformers\n",
    "- (Triton)\n",
    "- (Intel OpenVino)\n",
    "\n",
    "**Server:** \n",
    "- FastAPI + Docker + Kubernetes (Service Architecture): https://www.youtube.com/watch?v=DQRNt8Diyw4&t=354s\n",
    "- Triton Server: https://github.com/triton-inference-server/server\n",
    "\n",
    "\n",
    "**=> TAKE AWAYS:**\n",
    "- if possible, use a distilled model. \n",
    "- the most important speed up in inference you will get from QUANTIZATION\n",
    "- the second most important speed you will get from your inference framework. C++ is the gold standard. ONNX is quite generic and well supported + documented. \n",
    "\n",
    "## Questions\n",
    "- "
   ]
  },
  {
   "cell_type": "markdown",
   "metadata": {},
   "source": [
    "---"
   ]
  },
  {
   "cell_type": "code",
   "execution_count": 139,
   "metadata": {},
   "outputs": [],
   "source": [
    "# EXAMPLES\n",
    "\n",
    "## Model Fine Tuning Example (main next week)\n",
    "\n",
    "## Model Quantization, Graph Optimization, ONNX export\n",
    "\n",
    "## Model Inference Example Docker FastAPI Setup for FLAN-T5 XL inference, Faster IOBInding: https://tryolabs.com/blog/2022/11/24/transformer-based-model-for-faster-inference\n",
    "\n",
    "## TODO: GPTQ 4 bit quantization for MPT-7B, FLAN-T5 XL ONNX version"
   ]
  },
  {
   "cell_type": "code",
   "execution_count": null,
   "metadata": {},
   "outputs": [],
   "source": []
  }
 ],
 "metadata": {
  "kernelspec": {
   "display_name": "Python 3",
   "language": "python",
   "name": "python3"
  },
  "language_info": {
   "codemirror_mode": {
    "name": "ipython",
    "version": 3
   },
   "file_extension": ".py",
   "mimetype": "text/x-python",
   "name": "python",
   "nbconvert_exporter": "python",
   "pygments_lexer": "ipython3",
   "version": "3.8.5"
  }
 },
 "nbformat": 4,
 "nbformat_minor": 4
}
