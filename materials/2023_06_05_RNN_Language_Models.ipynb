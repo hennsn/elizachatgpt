{
 "cells": [
  {
   "cell_type": "markdown",
   "metadata": {},
   "source": [
    "#### News\n",
    "\n",
    "- QLORA: https://arxiv.org/abs/2305.14314, \n",
    "    - Tim Dettmers: https://huggingface.co/timdettmers\n",
    "    - Guanaco Model Series: https://guanaco-model.github.io/\n",
    "    - => very large models (65B = 32 bit 200GB, 16 bit 100GB, 8 bit 50 GB, 4bit 25GB) can now run on a 3090 (=24GB), A1600 (=48GB). \n",
    "\n",
    "\n",
    "- RWKV: RNN Transformer Models/Raven Models -> https://www.youtube.com/watch?v=x8pW19wKfXQ, https://arxiv.org/pdf/2305.13048.pdf\n",
    "        \n",
    "- FalconLM tops Llama Models on OS LLM Leaderboard: https://huggingface.co/spaces/HuggingFaceH4/open_llm_leaderboard, also 7B (!!!) Parameter Models available + Instruction tuned models!\n",
    "\n",
    "- Finally we know how smart Bard really is: https://chat.lmsys.org/?arena\n",
    "    - impressive: FastChatT5 3B (!!!) almost Bard performance with 3B parameters"
   ]
  },
  {
   "cell_type": "markdown",
   "metadata": {},
   "source": [
    "# RNN Language Models"
   ]
  },
  {
   "cell_type": "code",
   "execution_count": 1,
   "metadata": {},
   "outputs": [
    {
     "name": "stdout",
     "output_type": "stream",
     "text": [
      "['emma', 'olivia', 'ava', 'isabella', 'sophia', 'charlotte', 'mia', 'amelia', 'harper', 'evelyn']\n",
      "num words:  32033\n",
      "len dictinct characters:  26\n",
      "distinct_characters:  ['a', 'b', 'c', 'd', 'e', 'f', 'g', 'h', 'i', 'j', 'k', 'l', 'm', 'n', 'o', 'p', 'q', 'r', 's', 't', 'u', 'v', 'w', 'x', 'y', 'z']\n",
      "Num Characters:  27\n",
      "{'a': 0, 'b': 1, 'c': 2, 'd': 3, 'e': 4, 'f': 5, 'g': 6, 'h': 7, 'i': 8, 'j': 9, 'k': 10, 'l': 11, 'm': 12, 'n': 13, 'o': 14, 'p': 15, 'q': 16, 'r': 17, 's': 18, 't': 19, 'u': 20, 'v': 21, 'w': 22, 'x': 23, 'y': 24, 'z': 25}\n",
      "{'a': 0, 'b': 1, 'c': 2, 'd': 3, 'e': 4, 'f': 5, 'g': 6, 'h': 7, 'i': 8, 'j': 9, 'k': 10, 'l': 11, 'm': 12, 'n': 13, 'o': 14, 'p': 15, 'q': 16, 'r': 17, 's': 18, 't': 19, 'u': 20, 'v': 21, 'w': 22, 'x': 23, 'y': 24, 'z': 25, '_': 26}\n",
      "{0: 'a', 1: 'b', 2: 'c', 3: 'd', 4: 'e', 5: 'f', 6: 'g', 7: 'h', 8: 'i', 9: 'j', 10: 'k', 11: 'l', 12: 'm', 13: 'n', 14: 'o', 15: 'p', 16: 'q', 17: 'r', 18: 's', 19: 't', 20: 'u', 21: 'v', 22: 'w', 23: 'x', 24: 'y', 25: 'z', 26: '_'}\n"
     ]
    }
   ],
   "source": [
    "# PREPARE DATA\n",
    "import torch\n",
    "import torch.nn.functional as F\n",
    "import matplotlib.pyplot as plt\n",
    "%matplotlib inline \n",
    "\n",
    "# read words from file\n",
    "#words = open('./english_verbs.txt', 'r').read().splitlines()\n",
    "# alternative dataset: https://github.com/dwyl/english-words\n",
    "#words = open('./words_alpha.txt', 'r').read().splitlines()\n",
    "# alternative dataset: german names\n",
    "words = open('./names.txt', 'r').read().splitlines()\n",
    "\n",
    "print(words[:10])\n",
    "\n",
    "print('num words: ', len(words)) \n",
    "\n",
    "# Prepare Alphabet\n",
    "## count characters \n",
    "dataset_characters = []\n",
    "for word in words:\n",
    "    word_characters = list(word) \n",
    "    dataset_characters.extend(word_characters)\n",
    "distinct_characters = sorted(list(set(dataset_characters)))\n",
    "print('len dictinct characters: ', len(distinct_characters))\n",
    "print('distinct_characters: ', distinct_characters)\n",
    "\n",
    "special_characters = ['_'] # changed to blank only for convenience reasons\n",
    "\n",
    "# ngram characters = distinct characters + start token and end token -> + 2 \n",
    "num_characters = len(distinct_characters) + len(special_characters)\n",
    "print('Num Characters: ', num_characters)\n",
    "\n",
    "# create a character to index mapping because it is easier to work with indices when using tensor matrices -> every character gets assigned an index\n",
    "character_to_index_map = {character:index for index, character in enumerate(distinct_characters)}\n",
    "print(character_to_index_map)\n",
    "\n",
    "# add our special characters that symbolize start and end of a word\n",
    "character_to_index_map['_'] = 26\n",
    "print(character_to_index_map)\n",
    "\n",
    "# write characters into the cells to make it look more nicely\n",
    "index_to_character_map = {index:character for character, index in character_to_index_map.items()}\n",
    "print(index_to_character_map)"
   ]
  },
  {
   "cell_type": "code",
   "execution_count": 2,
   "metadata": {},
   "outputs": [
    {
     "name": "stdout",
     "output_type": "stream",
     "text": [
      "25626\n",
      "3203\n",
      "3204\n",
      "torch.Size([182609, 16]) torch.Size([182609])\n",
      "torch.Size([22748, 16]) torch.Size([22748])\n",
      "torch.Size([22789, 16]) torch.Size([22789])\n",
      "________________ ---> u\n",
      "_______________u ---> r\n",
      "______________ur ---> i\n",
      "_____________uri ---> _\n",
      "________________ ---> k\n",
      "_______________k ---> o\n",
      "______________ko ---> n\n",
      "_____________kon ---> s\n",
      "____________kons ---> t\n",
      "___________konst ---> a\n",
      "__________konsta ---> n\n",
      "_________konstan ---> t\n",
      "________konstant ---> i\n",
      "_______konstanti ---> n\n",
      "______konstantin ---> e\n",
      "_____konstantine ---> _\n",
      "________________ ---> m\n",
      "_______________m ---> a\n",
      "______________ma ---> c\n",
      "_____________mac ---> k\n"
     ]
    }
   ],
   "source": [
    "# DATA LOADER\n",
    "context_length = 16\n",
    "\n",
    "def build_dataset(words):\n",
    "    X, Y = [], [] # X = inputs, Y = outputs\n",
    "    for word in words: # [:4] \n",
    "        context = [26] * context_length # _ _ _ word _\n",
    "        for character in word + '_': \n",
    "            index = character_to_index_map[character]\n",
    "            X.append(context)\n",
    "            Y.append(index)\n",
    "            #print(''.join(index_to_character_map[i] for i in context), ' -> ', index_to_character_map[index])\n",
    "            context = context[1:] + [index] # crop first context token and append current token as the new last one of the context\n",
    "\n",
    "    X = torch.tensor(X)\n",
    "    Y = torch.tensor(Y)\n",
    "    print(X.shape, Y.shape)\n",
    "    return X, Y\n",
    "\n",
    "# SPLIT DATA INTO TRAIN, DEV, TEST -> 80%, 10%, 10%\n",
    "import random\n",
    "random.shuffle(words)\n",
    "train_num = int(0.8*len(words))\n",
    "dev_num = int(0.9*len(words)) - train_num\n",
    "test_num = len(words) - (train_num + dev_num)\n",
    "print(train_num)\n",
    "print(dev_num)\n",
    "print(test_num)\n",
    "\n",
    "X_train, Y_train = build_dataset(words[:train_num])\n",
    "X_dev, Y_dev = build_dataset(words[train_num:train_num+dev_num])\n",
    "X_test, Y_test = build_dataset(words[train_num+dev_num:])\n",
    "\n",
    "# SANITY CHECK: \n",
    "for x, y in zip(X_train[:20], Y_train[:20]):\n",
    "    print(''.join(index_to_character_map[ix.item()] for ix in x), '--->', index_to_character_map[y.item()])"
   ]
  },
  {
   "cell_type": "markdown",
   "metadata": {},
   "source": [
    "## RNN Networks\n",
    "\n",
    "![](https://gamedevacademy.org/wp-content/uploads/2017/10/Unrolled-RNN.png.webp)\n"
   ]
  },
  {
   "cell_type": "code",
   "execution_count": 3,
   "metadata": {},
   "outputs": [],
   "source": [
    "from torch import nn\n",
    "\n",
    "class RNNCell(nn.Module):\n",
    "    def __init__(self, embedding_dim, hidden_dim): \n",
    "        super().__init__()\n",
    "        self.xh_to_h = nn.Linear(embedding_dim + hidden_dim, hidden_dim) # RNN -> GRU, LSTM\n",
    "        # optional -> per state lm head to classify output\n",
    "\n",
    "    def forward(self, xt, hprev):\n",
    "        xh = torch.cat([xt, hprev], dim=1)\n",
    "        ht = F.tanh(self.xh_to_h(xh))\n",
    "        return ht"
   ]
  },
  {
   "cell_type": "code",
   "execution_count": 4,
   "metadata": {},
   "outputs": [],
   "source": [
    "class RNN(nn.Module):\n",
    "    def __init__(self, context_length, vocab_size, embedding_dim, hidden_dim):\n",
    "        super().__init__()\n",
    "        self.context_length = context_length\n",
    "        self.vocab_size = vocab_size\n",
    "        self.start = nn.Parameter(torch.zeros(1, hidden_dim)) # the starting hidden state\n",
    "        self.embedding_layer = nn.Embedding(self.vocab_size, embedding_dim) # token embeddings table\n",
    "        self.cell = RNNCell(embedding_dim, hidden_dim)\n",
    "        self.lm_head = nn.Linear(hidden_dim, self.vocab_size)\n",
    "\n",
    "    def get_context_length(self):\n",
    "        return self.context_length  \n",
    "\n",
    "    def forward(self, idx, targets=None):\n",
    "        b, t = idx.size()\n",
    "        \n",
    "        # embed all the integers up front and all at once for efficiency\n",
    "        emb = self.embedding_layer(idx) # (b, t, n_embd)\n",
    "\n",
    "        # sequentially iterate over the inputs and update the RNN state each tick\n",
    "        hprev = self.start.expand((b, -1)) # expand out the batch dimension\n",
    "        hiddens = []\n",
    "        for i in range(t): # Transformer -> T-Layer -> # Residual Connections # Attention?!\n",
    "            xt = emb[:, i, :] # (b, n_embd)\n",
    "            ht = self.cell(xt, hprev) # (b, n_embd2)\n",
    "            hprev = ht\n",
    "            hiddens.append(ht)\n",
    "\n",
    "        # decode the outputs\n",
    "        hidden = torch.stack(hiddens, 1) # (b, t, n_embd2)\n",
    "        logits = self.lm_head(hidden)\n",
    "        \n",
    "        # take last step logits out for next token prediction objective\n",
    "        logits = logits[:, -1, :]\n",
    "        \n",
    "        # if we are given some desired targets also calculate the loss\n",
    "        loss = None\n",
    "        if targets is not None:\n",
    "            loss = F.cross_entropy(logits, targets.view(-1), ignore_index=-1)\n",
    "            \n",
    "        return logits, loss"
   ]
  },
  {
   "cell_type": "code",
   "execution_count": 5,
   "metadata": {},
   "outputs": [],
   "source": [
    "# TRAINING\n",
    "embedding_dim = 10\n",
    "hidden_dim = 200\n",
    "vocab_size = num_characters\n",
    "context_length = 16\n",
    "learning_rate = 5e-4\n",
    "weight_decay = 0.01\n",
    "\n",
    "# define language model\n",
    "rnn_language_model = RNN(context_length, vocab_size, embedding_dim, hidden_dim)\n",
    "\n",
    "# define optimizer\n",
    "optimizer = torch.optim.AdamW(rnn_language_model.parameters(), lr=learning_rate, weight_decay=weight_decay, betas=(0.9, 0.99), eps=1e-8)"
   ]
  },
  {
   "cell_type": "code",
   "execution_count": 6,
   "metadata": {},
   "outputs": [
    {
     "name": "stderr",
     "output_type": "stream",
     "text": [
      "/root/anaconda3/lib/python3.8/site-packages/torch/nn/functional.py:1698: UserWarning: nn.functional.tanh is deprecated. Use torch.tanh instead.\n",
      "  warnings.warn(\"nn.functional.tanh is deprecated. Use torch.tanh instead.\")\n"
     ]
    },
    {
     "name": "stdout",
     "output_type": "stream",
     "text": [
      "      0/    500: 3.3240\n",
      "    100/    500: 2.6924\n",
      "    200/    500: 2.5648\n",
      "    300/    500: 2.7195\n",
      "    400/    500: 2.6081\n"
     ]
    }
   ],
   "source": [
    "# TRAIN MODEL\n",
    "num_epochs = 500\n",
    "batch_size = 32\n",
    "learning_rate = 0.01\n",
    "lossi = []\n",
    "\n",
    "for i in range(num_epochs):\n",
    "    # create minibatch\n",
    "    random_indices = torch.randint(0, X_train.shape[0], (batch_size,)) \n",
    "    X_batch, Y_batch = X_train[random_indices], Y_train[random_indices]\n",
    "    \n",
    "    # forward pass\n",
    "    logits, loss = rnn_language_model(X_batch, Y_batch)\n",
    "    \n",
    "    # backward pass -> zero out gradients \n",
    "    optimizer.zero_grad() # model.zero_grad(set_to_none=True)\n",
    "    loss.backward()\n",
    "    \n",
    "    # update weights -> simple stochastic gradient descent\n",
    "    optimizer.step()\n",
    "        \n",
    "    # logging\n",
    "    if i % 100 == 0:\n",
    "        print(f'{i:7d}/{num_epochs:7d}: {loss.item():.4f}')\n",
    "    lossi.append(loss.item())"
   ]
  },
  {
   "cell_type": "code",
   "execution_count": 7,
   "metadata": {},
   "outputs": [
    {
     "data": {
      "text/plain": [
       "[<matplotlib.lines.Line2D at 0x7f4163ee4640>]"
      ]
     },
     "execution_count": 7,
     "metadata": {},
     "output_type": "execute_result"
    },
    {
     "data": {
      "image/png": "[encoded data removed]",
      "text/plain": [
       "<Figure size 432x288 with 1 Axes>"
      ]
     },
     "metadata": {
      "needs_background": "light"
     },
     "output_type": "display_data"
    }
   ],
   "source": [
    "# PLOT training statistics\n",
    "plt.plot(torch.tensor(lossi).view(-1, 100).mean(1))"
   ]
  },
  {
   "cell_type": "code",
   "execution_count": 8,
   "metadata": {},
   "outputs": [
    {
     "name": "stderr",
     "output_type": "stream",
     "text": [
      "/root/anaconda3/lib/python3.8/site-packages/torch/nn/functional.py:1698: UserWarning: nn.functional.tanh is deprecated. Use torch.tanh instead.\n",
      "  warnings.warn(\"nn.functional.tanh is deprecated. Use torch.tanh instead.\")\n"
     ]
    },
    {
     "name": "stdout",
     "output_type": "stream",
     "text": [
      "train 2.487360715866089\n",
      "dev 2.481539249420166\n",
      "test 2.4903604984283447\n"
     ]
    }
   ],
   "source": [
    "# EVALUATE MODEL \n",
    "\n",
    "@torch.no_grad() # after this decorated gradients are disabled\n",
    "def split_loss(split, model):\n",
    "    x, y = {\n",
    "        'train': (X_train, Y_train), \n",
    "        'dev': (X_dev, Y_dev), \n",
    "        'test': (X_test, Y_test)\n",
    "        }[split]\n",
    "    logits, loss = model(x, y)\n",
    "    print(split, loss.item())\n",
    "    \n",
    "split_loss('train', rnn_language_model)\n",
    "split_loss('dev', rnn_language_model)\n",
    "split_loss('test', rnn_language_model)"
   ]
  },
  {
   "cell_type": "code",
   "execution_count": 14,
   "metadata": {},
   "outputs": [
    {
     "name": "stdout",
     "output_type": "stream",
     "text": [
      "oheln_\n",
      "rilidy_\n",
      "suca_\n",
      "eubrln_\n",
      "eritv_\n",
      "sadhm_\n",
      "acanne_\n",
      "noxe_\n",
      "jlmil_\n",
      "kycian_\n"
     ]
    }
   ],
   "source": [
    "# SAMPLING \n",
    "num_words_to_sample = 10\n",
    "\n",
    "for i in range(num_words_to_sample):\n",
    "    model = rnn_language_model\n",
    "    out = []\n",
    "    blank_index = 26 # start with the blank symbol\n",
    "    context = [blank_index] * context_length \n",
    "    while True: \n",
    "        # forward pass \n",
    "        logits, _ = model(torch.tensor([context]))\n",
    "        probs = F.softmax(logits, dim=1)\n",
    "        # sample from distribution over characters\n",
    "        index = torch.multinomial(probs, num_samples=1, replacement=True).item()\n",
    "        # shift context to the right\n",
    "        context = context[1:] + [index]\n",
    "        out.append(index_to_character_map[index])\n",
    "        if index == 26: \n",
    "            break \n",
    "    print(''.join(out)) "
   ]
  },
  {
   "cell_type": "code",
   "execution_count": null,
   "metadata": {},
   "outputs": [],
   "source": [
    "# Deployment\n",
    "\n",
    "# libs: mediapipe, dlib\n",
    "\n",
    "# kivy -> webapp\n",
    "\n",
    "# docker -> docker auf handy\n",
    "\n",
    "# webapp -> webassembly \n",
    "\n",
    "# kotlin/java -> performance? \n",
    "\n",
    "# Unity? + Plugin\n",
    "\n",
    "# -> decision tree presentation"
   ]
  }
 ],
 "metadata": {
  "kernelspec": {
   "display_name": "Python 3",
   "language": "python",
   "name": "python3"
  },
  "language_info": {
   "codemirror_mode": {
    "name": "ipython",
    "version": 3
   },
   "file_extension": ".py",
   "mimetype": "text/x-python",
   "name": "python",
   "nbconvert_exporter": "python",
   "pygments_lexer": "ipython3",
   "version": "3.8.5"
  }
 },
 "nbformat": 4,
 "nbformat_minor": 4
}
